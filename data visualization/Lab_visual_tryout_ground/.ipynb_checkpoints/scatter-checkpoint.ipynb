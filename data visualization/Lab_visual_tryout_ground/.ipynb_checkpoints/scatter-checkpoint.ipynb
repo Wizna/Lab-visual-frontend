{
 "cells": [
  {
   "cell_type": "markdown",
   "metadata": {
    "deletable": true,
    "editable": true
   },
   "source": [
    "# Try out for lab"
   ]
  },
  {
   "cell_type": "code",
   "execution_count": 12,
   "metadata": {
    "ExecuteTime": {
     "end_time": "2017-07-19T19:02:37.351934Z",
     "start_time": "2017-07-19T19:02:36.862103Z"
    },
    "collapsed": false,
    "deletable": true,
    "editable": true,
    "scrolled": false
   },
   "outputs": [],
   "source": [
    "# db = MySQLdb.connect(\"http://dolgi.informatik.rwth-aachen.de:3306\",\"ldavlab_ruiming\",\"bt8VTsGH7tsXt3BS\",\"Lab_Visual\" )\n",
    "import MySQLdb\n",
    "import numpy as np\n",
    "\n",
    "# Connect with the MySQL Server\n",
    "db = MySQLdb.connect(host='dolgi.informatik.rwth-aachen.de', port = 3306, user='ldavlab_ruiming',passwd='bt8VTsGH7tsXt3BS', db='ldavlab')\n",
    "\n",
    "\n",
    "# prepare a cursor object using cursor() method\n",
    "cursor = db.cursor()\n",
    "\n",
    "# execute SQL query using execute() method.\n",
    "cursor.execute(\"SELECT Bewertung, SpentTime/60  FROM    ldavlab_ruiming.etesttries_view where     etestnr = '1' and Status = 'Beendet' and SpentTime < 6000 group by Nachname\")\n",
    "\n",
    "# Fetch a single row using fetchone() method.\n",
    "data = cursor.fetchall()\n",
    "\n",
    "from sklearn import preprocessing\n",
    "X = np.array(data)\n",
    "data = preprocessing.scale(X)\n",
    "# print (data)\n",
    "\n",
    "db.close()"
   ]
  },
  {
   "cell_type": "code",
   "execution_count": 13,
   "metadata": {
    "ExecuteTime": {
     "end_time": "2017-07-19T19:02:38.037474Z",
     "start_time": "2017-07-19T19:02:38.013500Z"
    },
    "collapsed": false,
    "deletable": true,
    "editable": true
   },
   "outputs": [],
   "source": [
    "import pandas as pd\n",
    "df = pd.DataFrame( [[ij for ij in i] for i in data] )\n",
    "df.rename(columns={0: 'Grade', 1: 'Time'}, inplace=True);"
   ]
  },
  {
   "cell_type": "code",
   "execution_count": 14,
   "metadata": {
    "ExecuteTime": {
     "end_time": "2017-07-19T19:02:38.603843Z",
     "start_time": "2017-07-19T19:02:38.561815Z"
    },
    "collapsed": false,
    "deletable": true,
    "editable": true
   },
   "outputs": [
    {
     "data": {
      "text/html": [
       "<div>\n",
       "<table border=\"1\" class=\"dataframe\">\n",
       "  <thead>\n",
       "    <tr style=\"text-align: right;\">\n",
       "      <th></th>\n",
       "      <th>Grade</th>\n",
       "      <th>Time</th>\n",
       "    </tr>\n",
       "  </thead>\n",
       "  <tbody>\n",
       "    <tr>\n",
       "      <th>0</th>\n",
       "      <td>0.056812</td>\n",
       "      <td>-0.161181</td>\n",
       "    </tr>\n",
       "    <tr>\n",
       "      <th>1</th>\n",
       "      <td>-1.059977</td>\n",
       "      <td>-0.283062</td>\n",
       "    </tr>\n",
       "    <tr>\n",
       "      <th>2</th>\n",
       "      <td>0.087270</td>\n",
       "      <td>-0.759394</td>\n",
       "    </tr>\n",
       "    <tr>\n",
       "      <th>3</th>\n",
       "      <td>-0.125935</td>\n",
       "      <td>-0.408290</td>\n",
       "    </tr>\n",
       "    <tr>\n",
       "      <th>4</th>\n",
       "      <td>0.087270</td>\n",
       "      <td>2.298752</td>\n",
       "    </tr>\n",
       "  </tbody>\n",
       "</table>\n",
       "</div>"
      ],
      "text/plain": [
       "      Grade      Time\n",
       "0  0.056812 -0.161181\n",
       "1 -1.059977 -0.283062\n",
       "2  0.087270 -0.759394\n",
       "3 -0.125935 -0.408290\n",
       "4  0.087270  2.298752"
      ]
     },
     "execution_count": 14,
     "metadata": {},
     "output_type": "execute_result"
    }
   ],
   "source": [
    "df.head()"
   ]
  },
  {
   "cell_type": "code",
   "execution_count": 15,
   "metadata": {
    "ExecuteTime": {
     "end_time": "2017-07-19T19:02:40.388614Z",
     "start_time": "2017-07-19T19:02:39.404426Z"
    },
    "collapsed": false,
    "deletable": true,
    "editable": true
   },
   "outputs": [
    {
     "name": "stdout",
     "output_type": "stream",
     "text": [
      "<class 'pandas.core.series.Series'>\n",
      "<class 'pandas.core.frame.DataFrame'>\n",
      "        Grade      Time\n",
      "0    0.056812 -0.161181\n",
      "1   -1.059977 -0.283062\n",
      "2    0.087270 -0.759394\n",
      "3   -0.125935 -0.408290\n",
      "4    0.087270  2.298752\n",
      "5    1.112686  0.300612\n",
      "6   -2.120927 -0.692305\n",
      "7    0.935015 -0.412765\n",
      "8   -0.364522 -0.573779\n",
      "9    0.148186 -0.634159\n",
      "10  -0.278224 -0.259581\n",
      "11   0.874099  0.066921\n",
      "12   1.295434 -0.571545\n",
      "13  -0.699559  0.245827\n",
      "14  -0.125935 -0.725850\n",
      "15  -0.034561 -0.536880\n",
      "16  -0.156393 -0.761628\n",
      "17   1.112686  1.822420\n",
      "18   0.691352  0.341986\n",
      "19   1.112686 -0.646457\n",
      "20   1.295434 -0.833192\n",
      "21  -0.364522  3.971502\n",
      "22  -0.669101 -0.012465\n",
      "23   1.295434 -0.554773\n",
      "24   1.295434 -0.797407\n",
      "25  -2.389972  0.251416\n",
      "26   0.478147  1.144820\n",
      "27   0.691352  0.254770\n",
      "28   0.447689  0.000953\n",
      "29  -2.450888 -0.418354\n",
      "..        ...       ...\n",
      "90   0.660894 -0.116453\n",
      "91   0.508605 -0.486563\n",
      "92  -0.278224 -0.290885\n",
      "93   0.691352 -0.028124\n",
      "94   0.874099 -0.673292\n",
      "95  -0.938146  5.820925\n",
      "96  -0.455895 -0.716900\n",
      "97  -3.780883 -0.804116\n",
      "98   0.447689 -0.762749\n",
      "99  -0.760474 -0.523462\n",
      "100  0.087270 -0.373632\n",
      "101  1.112686 -0.646457\n",
      "102  0.330934  1.012876\n",
      "103  0.386773  0.232410\n",
      "104  0.386773 -0.621862\n",
      "105  0.087270 -0.445189\n",
      "106  1.295434  0.729982\n",
      "107  1.112686 -0.606203\n",
      "108  0.569520 -0.276353\n",
      "109 -3.598135 -0.634159\n",
      "110 -0.364522  0.691970\n",
      "111  1.295434 -0.630805\n",
      "112 -2.603177 -0.489918\n",
      "113  0.087270  0.199979\n",
      "114 -0.278224  0.193270\n",
      "115 -0.303606 -0.227150\n",
      "116  1.295434 -0.599494\n",
      "117 -0.999061 -0.114219\n",
      "118  0.270018 -0.325550\n",
      "119  1.112686  1.453430\n",
      "\n",
      "[120 rows x 2 columns]\n"
     ]
    },
    {
     "data": {
      "image/png": "[encoded data removed]",
      "text/plain": [
       "<matplotlib.figure.Figure at 0x24cdd4657b8>"
      ]
     },
     "metadata": {},
     "output_type": "display_data"
    }
   ],
   "source": [
    "import numpy as np\n",
    "import matplotlib.pyplot as plt\n",
    " \n",
    "# Create data\n",
    "x = df['Time']\n",
    "y = df['Grade']\n",
    "\n",
    "print(type(x))\n",
    "print(type(df))\n",
    "print(df)\n",
    "\n",
    "colors = (0,0,0)\n",
    "area = np.pi*3\n",
    " \n",
    "# Plot\n",
    "plt.scatter(x, y, s=area, c=colors, alpha=0.5)\n",
    "plt.title('Scatter plot pythonspot.com')\n",
    "plt.xlabel('x')\n",
    "plt.ylabel('y')\n",
    "plt.show()"
   ]
  },
  {
   "cell_type": "code",
   "execution_count": 16,
   "metadata": {
    "ExecuteTime": {
     "end_time": "2017-07-19T19:02:40.415685Z",
     "start_time": "2017-07-19T19:02:40.397672Z"
    },
    "collapsed": true,
    "deletable": true,
    "editable": true
   },
   "outputs": [],
   "source": [
    "from scipy import cluster"
   ]
  },
  {
   "cell_type": "code",
   "execution_count": 17,
   "metadata": {
    "ExecuteTime": {
     "end_time": "2017-07-19T19:02:42.113520Z",
     "start_time": "2017-07-19T19:02:40.623847Z"
    },
    "collapsed": false,
    "deletable": true,
    "editable": true
   },
   "outputs": [
    {
     "data": {
      "image/png": "[encoded data removed]",
      "text/plain": [
       "<matplotlib.figure.Figure at 0x24cdd4695f8>"
      ]
     },
     "metadata": {},
     "output_type": "display_data"
    }
   ],
   "source": [
    "initial = [cluster.vq.kmeans(data,i) for i in range(1,10)]\n",
    "plt.plot([var for (cent,var) in initial])\n",
    "plt.show()"
   ]
  },
  {
   "cell_type": "code",
   "execution_count": 18,
   "metadata": {
    "ExecuteTime": {
     "end_time": "2017-07-19T19:02:43.081535Z",
     "start_time": "2017-07-19T19:02:42.121515Z"
    },
    "collapsed": false,
    "deletable": true,
    "editable": true
   },
   "outputs": [
    {
     "data": {
      "image/png": "[encoded data removed]",
      "text/plain": [
       "<matplotlib.figure.Figure at 0x24cdd5010f0>"
      ]
     },
     "metadata": {},
     "output_type": "display_data"
    },
    {
     "name": "stdout",
     "output_type": "stream",
     "text": [
      "<class 'numpy.ndarray'>\n"
     ]
    }
   ],
   "source": [
    "cent, var = initial[3]\n",
    "#use vq() to get as assignment for each obs.\n",
    "assignment,cdist = cluster.vq.vq(data,cent)\n",
    "plt.scatter(x, y, c=assignment)\n",
    "plt.show()\n",
    "\n",
    "print(type(assignment))"
   ]
  },
  {
   "cell_type": "code",
   "execution_count": 19,
   "metadata": {
    "ExecuteTime": {
     "end_time": "2017-07-19T19:02:43.836605Z",
     "start_time": "2017-07-19T19:02:43.816597Z"
    },
    "collapsed": true,
    "deletable": true,
    "editable": true
   },
   "outputs": [],
   "source": [
    "df = df.assign(Class=pd.Series(assignment).values)"
   ]
  },
  {
   "cell_type": "code",
   "execution_count": 20,
   "metadata": {
    "ExecuteTime": {
     "end_time": "2017-07-19T19:02:44.394575Z",
     "start_time": "2017-07-19T19:02:44.334029Z"
    },
    "collapsed": false,
    "deletable": true,
    "editable": true,
    "scrolled": true
   },
   "outputs": [
    {
     "name": "stdout",
     "output_type": "stream",
     "text": [
      "         0         1  Class\n",
      "0     7.56   10.9500      1\n",
      "1     5.36    9.1333      1\n",
      "2     7.62    2.0333      1\n",
      "3     7.20    7.2667      1\n",
      "4     7.62   47.6167      2\n",
      "5     9.64   17.8333      3\n",
      "6     3.27    3.0333      0\n",
      "7     9.29    7.2000      3\n",
      "8     6.73    4.8000      1\n",
      "9     7.74    3.9000      1\n",
      "10    6.90    9.4833      1\n",
      "11    9.17   14.3500      3\n",
      "12   10.00    4.8333      3\n",
      "13    6.07   17.0167      1\n",
      "14    7.20    2.5333      1\n",
      "15    7.38    5.3500      1\n",
      "16    7.14    2.0000      1\n",
      "17    9.64   40.5167      2\n",
      "18    8.81   18.4500      3\n",
      "19    9.64    3.7167      3\n",
      "20   10.00    0.9333      3\n",
      "21    6.73   72.5500      2\n",
      "22    6.13   13.1667      1\n",
      "23   10.00    5.0833      3\n",
      "24   10.00    1.4667      3\n",
      "25    2.74   17.1000      0\n",
      "26    8.39   30.4167      1\n",
      "27    8.81   17.1500      3\n",
      "28    8.33   13.3667      3\n",
      "29    2.62    7.1167      0\n",
      "..     ...       ...    ...\n",
      "90    8.75   11.6167      3\n",
      "91    8.45    6.1000      3\n",
      "92    6.90    9.0167      1\n",
      "93    8.81   12.9333      3\n",
      "94    9.17    3.3167      3\n",
      "95    5.60  100.1167      2\n",
      "96    6.55    2.6667      1\n",
      "97    0.00    1.3667      0\n",
      "98    8.33    1.9833      3\n",
      "99    5.95    5.5500      1\n",
      "100   7.62    7.7833      1\n",
      "101   9.64    3.7167      3\n",
      "102   8.10   28.4500      1\n",
      "103   8.21   16.8167      1\n",
      "104   8.21    4.0833      3\n",
      "105   7.62    6.7167      1\n",
      "106  10.00   24.2333      3\n",
      "107   9.64    4.3167      3\n",
      "108   8.57    9.2333      3\n",
      "109   0.36    3.9000      0\n",
      "110   6.73   23.6667      1\n",
      "111  10.00    3.9500      3\n",
      "112   2.32    6.0500      0\n",
      "113   7.62   16.3333      1\n",
      "114   6.90   16.2333      1\n",
      "115   6.85    9.9667      1\n",
      "116  10.00    4.4167      3\n",
      "117   5.48   11.6500      1\n",
      "118   7.98    8.5000      1\n",
      "119   9.64   35.0167      2\n",
      "\n",
      "[120 rows x 3 columns]\n"
     ]
    }
   ],
   "source": [
    "dn = pd.DataFrame( [[ij for ij in i] for i in X] )\n",
    "dn = dn.assign(Class=pd.Series(assignment).values)\n",
    "print(dn)"
   ]
  },
  {
   "cell_type": "code",
   "execution_count": null,
   "metadata": {
    "collapsed": true,
    "deletable": true,
    "editable": true
   },
   "outputs": [],
   "source": []
  },
  {
   "cell_type": "code",
   "execution_count": null,
   "metadata": {
    "collapsed": true,
    "deletable": true,
    "editable": true
   },
   "outputs": [],
   "source": []
  }
 ],
 "metadata": {
  "anaconda-cloud": {},
  "kernelspec": {
   "display_name": "Python [conda root]",
   "language": "python",
   "name": "conda-root-py"
  },
  "language_info": {
   "codemirror_mode": {
    "name": "ipython",
    "version": 3
   },
   "file_extension": ".py",
   "mimetype": "text/x-python",
   "name": "python",
   "nbconvert_exporter": "python",
   "pygments_lexer": "ipython3",
   "version": "3.5.2"
  },
  "latex_envs": {
   "LaTeX_envs_menu_present": true,
   "autocomplete": true,
   "bibliofile": "biblio.bib",
   "cite_by": "apalike",
   "current_citInitial": 1,
   "eqLabelWithNumbers": true,
   "eqNumInitial": 1,
   "hotkeys": {
    "equation": "Ctrl-E",
    "itemize": "Ctrl-I"
   },
   "labels_anchors": false,
   "latex_user_defs": false,
   "report_style_numbering": false,
   "user_envs_cfg": false
  }
 },
 "nbformat": 4,
 "nbformat_minor": 1
}
